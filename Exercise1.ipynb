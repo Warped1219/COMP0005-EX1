{
 "cells": [
  {
   "cell_type": "markdown",
   "id": "e5a7bef7-2e25-4ce3-aafc-bec2ee41d546",
   "metadata": {},
   "source": [
    "1st Question: Coin Change"
   ]
  },
  {
   "cell_type": "code",
   "execution_count": 29,
   "id": "01f6346a-432e-4211-9a10-5970390513d3",
   "metadata": {},
   "outputs": [
    {
     "name": "stdout",
     "output_type": "stream",
     "text": [
      "Input coin values: \n",
      "You have inputted 1.\n",
      "Input 0 to stop.\n",
      "Current coin list: [1]\n",
      "Input coin values: \n",
      "You have inputted 5.\n",
      "Input 0 to stop.\n",
      "Current coin list: [1, 5]\n",
      "Input coin values: \n",
      "You have inputted 10.\n",
      "Input 0 to stop.\n",
      "Current coin list: [1, 5, 10]\n",
      "Input coin values: \n",
      "You have inputted 100.\n",
      "Input 0 to stop.\n",
      "Current coin list: [1, 5, 10, 100]\n",
      "Input coin values: \n",
      "You have inputted 0.\n",
      "Input 0 to stop.\n",
      "[1, 5, 10, 100]\n",
      "The minimum amount of coins needed to hit target is  25 .\n"
     ]
    }
   ],
   "source": [
    "coin_list = []\n",
    "while True:\n",
    "    print(\"Input coin values: \")\n",
    "    coin = int(input())\n",
    "    print(\"You have inputted \" + str(coin) + \".\")\n",
    "    print(\"Input 0 to stop.\")\n",
    "    if int(coin) == 0:\n",
    "        break\n",
    "    else:\n",
    "        coin_list.append(coin)\n",
    "        coin_list = list(dict.fromkeys(coin_list))\n",
    "        print(\"Current coin list: \" + str(coin_list))\n",
    "print(coin_list)\n",
    "\n",
    "target = int(input(\"Input target value: \"))\n",
    "\n",
    "def coin_change(target, coins):\n",
    "    if target == 0:\n",
    "        return 0\n",
    "    else:\n",
    "        sum = 0\n",
    "        count = 0\n",
    "        while sum != target:\n",
    "            sum += coin_list[len(coin_list) - 1]\n",
    "            count += 1\n",
    "            if sum > target:\n",
    "                sum -= coin_list[len(coin_list) - 1]\n",
    "                count -= 1\n",
    "                coin_list.pop()\n",
    "            elif sum == target:\n",
    "                return count\n",
    "            \n",
    "print(\"The minimum amount of coins needed to hit target is \", coin_change(target, coin_list), \".\")\n",
    "        "
   ]
  },
  {
   "cell_type": "markdown",
   "id": "e29a7aae",
   "metadata": {},
   "source": [
    "2nd Question: Fibonacci Sequence"
   ]
  },
  {
   "cell_type": "code",
   "execution_count": 30,
   "id": "7e9174a6",
   "metadata": {},
   "outputs": [
    {
     "name": "stdout",
     "output_type": "stream",
     "text": [
      "14472334024676221\n"
     ]
    }
   ],
   "source": [
    "def recursive_fibonacci(num):\n",
    "    if num <= 0:\n",
    "        return num\n",
    "    elif num == 1:\n",
    "        return num\n",
    "    else:\n",
    "        return recursive_fibonacci(num - 1) + recursive_fibonacci(num - 2)\n",
    "    \n",
    "def fibonacci(num):\n",
    "    if num <= 1:\n",
    "        return num\n",
    "    else:\n",
    "        sum = 0\n",
    "        a = 0\n",
    "        b = 1\n",
    "        for i in range(2, num):\n",
    "            sum = a + b\n",
    "            a = b\n",
    "            b = sum\n",
    "        return sum\n",
    "\n",
    "input_num = int(input(\"Input number: \"))\n",
    "print(fibonacci(input_num))\n",
    "print(recursive_fibonacci(input_num - 1))"
   ]
  },
  {
   "cell_type": "markdown",
   "id": "0486c64a",
   "metadata": {},
   "source": [
    "3rd Question: Balanced Paranthesis"
   ]
  },
  {
   "cell_type": "code",
   "execution_count": 25,
   "id": "8bfa3811",
   "metadata": {},
   "outputs": [
    {
     "name": "stdout",
     "output_type": "stream",
     "text": [
      "False\n"
     ]
    }
   ],
   "source": [
    "def check_paranthesis(string):\n",
    "    stack = []\n",
    "    for i in string:\n",
    "        if i == \"(\":\n",
    "            stack.append(i)\n",
    "        elif i == \")\":\n",
    "            if len(stack) == 0:\n",
    "                return False\n",
    "            else:\n",
    "                stack.pop()\n",
    "        else:\n",
    "            continue\n",
    "    if len(stack) == 0:\n",
    "        return True\n",
    "    else:\n",
    "        return False\n",
    "\n",
    "input_string = input(\"Input string: \")\n",
    "print(check_paranthesis(input_string))"
   ]
  }
 ],
 "metadata": {
  "kernelspec": {
   "display_name": "Python 3 (ipykernel)",
   "language": "python",
   "name": "python3"
  },
  "language_info": {
   "codemirror_mode": {
    "name": "ipython",
    "version": 3
   },
   "file_extension": ".py",
   "mimetype": "text/x-python",
   "name": "python",
   "nbconvert_exporter": "python",
   "pygments_lexer": "ipython3",
   "version": "3.11.7"
  }
 },
 "nbformat": 4,
 "nbformat_minor": 5
}
